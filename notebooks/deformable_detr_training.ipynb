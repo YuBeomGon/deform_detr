{
 "cells": [
  {
   "cell_type": "code",
   "execution_count": 1,
   "id": "2d2a3c3a-b8f3-4c31-803b-a0888c42d0c2",
   "metadata": {},
   "outputs": [],
   "source": [
    "from collections import OrderedDict\n",
    "\n",
    "import torch\n",
    "import torch.nn.functional as F\n",
    "import torchvision\n",
    "from torch import nn\n",
    "from torchvision.models._utils import IntermediateLayerGetter\n",
    "from typing import Dict, List\n",
    "\n",
    "import sys\n",
    "sys.path.append('../')\n",
    "from util.misc import NestedTensor, is_main_process\n",
    "\n",
    "from models.position_encoding import build_position_encoding\n",
    "from models.backbone import BackboneBase\n",
    "\n",
    "import argparse\n",
    "import datetime\n",
    "import json\n",
    "from models import build_model\n",
    "from datasets import build_dataset\n",
    "from datasets import get_coco_api_from_dataset\n",
    "import util.misc as utils\n",
    "from engine import evaluate, train_one_epoch\n",
    "from models import build_model\n",
    "\n",
    "from feed import LbpDataset\n",
    "\n",
    "import pandas as pd\n",
    "import numpy as np"
   ]
  },
  {
   "cell_type": "code",
   "execution_count": 2,
   "id": "78616205-6fa8-42fe-979f-61c17e9a930e",
   "metadata": {},
   "outputs": [],
   "source": [
    "from main import get_args_parser\n",
    "parser = argparse.ArgumentParser('DETR training and evaluation script', parents=[get_args_parser()])\n",
    "parser.add_argument('--workers', default=8, type=int)\n",
    "args = parser.parse_args(args=[])\n",
    "args.coco_path = '../COCO/'\n",
    "args.coco_path\n",
    "args.batch_size = 4\n",
    "args.resume = '../trained_models/r50_deformable_detr-checkpoint.pth'\n",
    "args.distributed = False\n",
    "args.output_dir = '../trained_models/'\n",
    "args.num_class = 1 # remove back ground task, only real task\n",
    "args.epochs = 100\n",
    "args.lr_drop = 50\n",
    "args.lr = 0.0002\n",
    "args.device = 'cuda:2'"
   ]
  },
  {
   "cell_type": "code",
   "execution_count": null,
   "id": "bbf520c2-e6f4-41ce-a025-c6bf72bc8eb6",
   "metadata": {},
   "outputs": [],
   "source": []
  },
  {
   "cell_type": "code",
   "execution_count": 3,
   "id": "97a113db-2bd2-4c82-ac82-35bc44076168",
   "metadata": {},
   "outputs": [],
   "source": [
    "# dataset_train = build_dataset(image_set='train', args=args)\n",
    "# dataset_val = build_dataset(image_set='val', args=args)\n",
    "# images, targets = next(iter(dataset_train))\n",
    "# print(type(dataset_val))\n",
    "# # targets\n",
    "# dataset_val"
   ]
  },
  {
   "cell_type": "code",
   "execution_count": 4,
   "id": "74839bf3-8680-4f5a-bc1a-f51fd45f0314",
   "metadata": {},
   "outputs": [
    {
     "name": "stdout",
     "output_type": "stream",
     "text": [
      "(9735, 12)\n"
     ]
    },
    {
     "name": "stderr",
     "output_type": "stream",
     "text": [
      "../feed.py:108: SettingWithCopyWarning: \n",
      "A value is trying to be set on a copy of a slice from a DataFrame.\n",
      "Try using .loc[row_indexer,col_indexer] = value instead\n",
      "\n",
      "See the caveats in the documentation: https://pandas.pydata.org/pandas-docs/stable/user_guide/indexing.html#returning-a-view-versus-a-copy\n",
      "  df['xmax'] = df.apply(lambda x : x['xmin'] + x['w'], axis=1)\n",
      "../feed.py:109: SettingWithCopyWarning: \n",
      "A value is trying to be set on a copy of a slice from a DataFrame.\n",
      "Try using .loc[row_indexer,col_indexer] = value instead\n",
      "\n",
      "See the caveats in the documentation: https://pandas.pydata.org/pandas-docs/stable/user_guide/indexing.html#returning-a-view-versus-a-copy\n",
      "  df['ymax'] = df.apply(lambda x : x['ymin'] + x['h'], axis=1)\n",
      "../feed.py:110: SettingWithCopyWarning: \n",
      "A value is trying to be set on a copy of a slice from a DataFrame.\n",
      "Try using .loc[row_indexer,col_indexer] = value instead\n",
      "\n",
      "See the caveats in the documentation: https://pandas.pydata.org/pandas-docs/stable/user_guide/indexing.html#returning-a-view-versus-a-copy\n",
      "  df['area'] = df.apply(lambda x : x['w'] * x['h'], axis=1)\n"
     ]
    },
    {
     "name": "stdout",
     "output_type": "stream",
     "text": [
      "total 7176 train 5382 test 1794\n",
      "5382\n",
      "1794\n"
     ]
    }
   ],
   "source": [
    "from feed import CLASS_MAPPER, get_train_test_list, train_transforms, val_transforms\n",
    "df = pd.read_csv('../../data/df.csv')\n",
    "df.label = df.label.apply(lambda x : CLASS_MAPPER[str(x)])\n",
    "print(df.shape)\n",
    "# Data loading code#\n",
    "train_list, test_list = get_train_test_list(df)\n",
    "train_dataset = LbpDataset(train_list, default_path='/home/beomgon/Dataset/scl/', transform=train_transforms)\n",
    "test_dataset = LbpDataset(test_list, default_path='/home/beomgon/Dataset/scl/', transform=val_transforms)  "
   ]
  },
  {
   "cell_type": "code",
   "execution_count": 5,
   "id": "fa324d9d-e982-4002-ad64-63276edaec11",
   "metadata": {},
   "outputs": [],
   "source": [
    "train_sampler = torch.utils.data.RandomSampler(train_dataset)\n",
    "test_sampler = torch.utils.data.SequentialSampler(test_dataset)\n",
    "data_loader = torch.utils.data.DataLoader(dataset=train_dataset,\n",
    "                                           batch_size=args.batch_size,\n",
    "                                           shuffle=False,\n",
    "                                           num_workers=args.workers,\n",
    "                                           # pin_memory=True,\n",
    "                                           sampler=train_sampler,\n",
    "                                           collate_fn=utils.collate_fn)    \n",
    "\n",
    "data_loader_test = torch.utils.data.DataLoader(\n",
    "    test_dataset, batch_size=args.batch_size,\n",
    "    sampler=test_sampler, num_workers=args.workers,\n",
    "    collate_fn=utils.collate_fn)\n"
   ]
  },
  {
   "cell_type": "code",
   "execution_count": 6,
   "id": "24df2fdd-df80-45b9-bb1e-0f3acc133eab",
   "metadata": {},
   "outputs": [
    {
     "data": {
      "text/plain": [
       "torch.Size([4, 3, 1024, 1024])"
      ]
     },
     "execution_count": 6,
     "metadata": {},
     "output_type": "execute_result"
    }
   ],
   "source": [
    "images, targets = next(iter(data_loader))\n",
    "images.tensors.shape"
   ]
  },
  {
   "cell_type": "code",
   "execution_count": 7,
   "id": "957d062a-347d-4c2c-a256-8de275149362",
   "metadata": {},
   "outputs": [],
   "source": [
    "# lr_backbone_names = [\"backbone.0\", \"backbone.neck\", \"input_proj\", \"transformer.encoder\"]\n",
    "def match_name_keywords(n, name_keywords):\n",
    "    out = False\n",
    "    for b in name_keywords:\n",
    "        if b in n:\n",
    "            out = True\n",
    "            break\n",
    "    return out"
   ]
  },
  {
   "cell_type": "code",
   "execution_count": 8,
   "id": "5b38b57f-9c97-4b7d-ba06-dc0adfda5e63",
   "metadata": {},
   "outputs": [
    {
     "name": "stdout",
     "output_type": "stream",
     "text": [
      "number of params: 39847265\n"
     ]
    }
   ],
   "source": [
    "device = torch.device(args.device)\n",
    "model, criterion, postprocessors = build_model(args)\n",
    "\n",
    "model_without_ddp = model\n",
    "n_parameters = sum(p.numel() for p in model.parameters() if p.requires_grad)\n",
    "print('number of params:', n_parameters)\n",
    "    \n",
    "param_dicts = [\n",
    "    {\n",
    "        \"params\":\n",
    "            [p for n, p in model_without_ddp.named_parameters()\n",
    "             if not match_name_keywords(n, args.lr_backbone_names) and not match_name_keywords(n, args.lr_linear_proj_names) and p.requires_grad],\n",
    "        \"lr\": args.lr,\n",
    "    },\n",
    "    {\n",
    "        \"params\": [p for n, p in model_without_ddp.named_parameters() if match_name_keywords(n, args.lr_backbone_names) and p.requires_grad],\n",
    "        \"lr\": args.lr_backbone,\n",
    "    },\n",
    "    {\n",
    "        \"params\": [p for n, p in model_without_ddp.named_parameters() if match_name_keywords(n, args.lr_linear_proj_names) and p.requires_grad],\n",
    "        \"lr\": args.lr * args.lr_linear_proj_mult,\n",
    "    }\n",
    "]\n",
    "optimizer = torch.optim.AdamW(param_dicts, lr=args.lr,\n",
    "                              weight_decay=args.weight_decay)\n",
    "lr_scheduler = torch.optim.lr_scheduler.StepLR(optimizer, args.lr_drop)    "
   ]
  },
  {
   "cell_type": "code",
   "execution_count": 9,
   "id": "99f51f1e-ff30-46b3-99f3-f3e132f15189",
   "metadata": {},
   "outputs": [],
   "source": [
    "# model_without_ddp"
   ]
  },
  {
   "cell_type": "code",
   "execution_count": 10,
   "id": "45ab4fa1-e3f1-487f-980b-0b0bb73d53b6",
   "metadata": {},
   "outputs": [
    {
     "data": {
      "text/plain": [
       "dict_keys(['model', 'optimizer', 'lr_scheduler', 'epoch', 'args'])"
      ]
     },
     "execution_count": 10,
     "metadata": {},
     "output_type": "execute_result"
    }
   ],
   "source": [
    "checkpoint = torch.load(args.resume, map_location='cpu')\n",
    "checkpoint.keys()"
   ]
  },
  {
   "cell_type": "code",
   "execution_count": 11,
   "id": "676d282d-74d7-46c4-9561-575ed1d0e18d",
   "metadata": {},
   "outputs": [],
   "source": [
    "# if args.sgd:\n",
    "#     optimizer = torch.optim.SGD(param_dicts, lr=args.lr, momentum=0.9,\n",
    "#                                 weight_decay=args.weight_decay)\n",
    "# else:\n",
    "#     optimizer = torch.optim.AdamW(param_dicts, lr=args.lr,\n",
    "#                                   weight_decay=args.weight_decay)\n",
    "# lr_scheduler = torch.optim.lr_scheduler.StepLR(optimizer, args.lr_drop)"
   ]
  },
  {
   "cell_type": "code",
   "execution_count": 12,
   "id": "0000da2f-8070-471b-abb3-bfd0ed76e207",
   "metadata": {},
   "outputs": [
    {
     "name": "stdout",
     "output_type": "stream",
     "text": [
      "pretrained model is used\n",
      "model is loaded to gpu\n"
     ]
    }
   ],
   "source": [
    "if args.resume:\n",
    "    if args.resume.startswith('https'):\n",
    "        checkpoint = torch.hub.load_state_dict_from_url(\n",
    "            args.resume, map_location='cpu', check_hash=True)\n",
    "    else:\n",
    "        checkpoint = torch.load(args.resume, map_location='cpu')\n",
    "    print('pretrained model is used')\n",
    "    model_without_ddp.load_state_dict(checkpoint['model'])\n",
    "        \n",
    "class_embed = nn.Linear(in_features=256, out_features=args.num_class + 1, bias=True)         \n",
    "model_without_ddp.class_embed = nn.ModuleList([class_embed for _ in range(6)])\n",
    "\n",
    "model_without_ddp.to(device)\n",
    "print('model is loaded to gpu')"
   ]
  },
  {
   "cell_type": "code",
   "execution_count": 13,
   "id": "7b49ad36-96fd-425a-8bbf-30fe966f8a7e",
   "metadata": {},
   "outputs": [
    {
     "data": {
      "text/plain": [
       "ModuleList(\n",
       "  (0): Linear(in_features=256, out_features=2, bias=True)\n",
       "  (1): Linear(in_features=256, out_features=2, bias=True)\n",
       "  (2): Linear(in_features=256, out_features=2, bias=True)\n",
       "  (3): Linear(in_features=256, out_features=2, bias=True)\n",
       "  (4): Linear(in_features=256, out_features=2, bias=True)\n",
       "  (5): Linear(in_features=256, out_features=2, bias=True)\n",
       ")"
      ]
     },
     "execution_count": 13,
     "metadata": {},
     "output_type": "execute_result"
    }
   ],
   "source": [
    "model.class_embed"
   ]
  },
  {
   "cell_type": "code",
   "execution_count": 14,
   "id": "3608f501-80d4-4a56-8f9d-fa3d5ea1b29d",
   "metadata": {},
   "outputs": [
    {
     "name": "stdout",
     "output_type": "stream",
     "text": [
      "Start training\n",
      "Epoch: [0]  [   0/1346]  eta: 0:30:37  lr: 0.000200  class_error: 75.00  grad_norm: 3623768.50  loss: 1288.9016 (1288.9016)  loss_ce: 214.3728 (214.3728)  loss_bbox: 0.7220 (0.7220)  loss_giou: 1.5172 (1.5172)  loss_ce_0: 169.7816 (169.7816)  loss_bbox_0: 0.9199 (0.9199)  loss_giou_0: 1.4939 (1.4939)  loss_ce_1: 202.5924 (202.5924)  loss_bbox_1: 0.7543 (0.7543)  loss_giou_1: 1.5025 (1.5025)  loss_ce_2: 222.1283 (222.1283)  loss_bbox_2: 0.7662 (0.7662)  loss_giou_2: 1.4993 (1.4993)  loss_ce_3: 234.9000 (234.9000)  loss_bbox_3: 0.7531 (0.7531)  loss_giou_3: 1.5250 (1.5250)  loss_ce_4: 231.4132 (231.4132)  loss_bbox_4: 0.7383 (0.7383)  loss_giou_4: 1.5216 (1.5216)  loss_ce_unscaled: 107.1864 (107.1864)  class_error_unscaled: 75.0000 (75.0000)  loss_bbox_unscaled: 0.1444 (0.1444)  loss_giou_unscaled: 0.7586 (0.7586)  cardinality_error_unscaled: 297.7500 (297.7500)  loss_ce_0_unscaled: 84.8908 (84.8908)  loss_bbox_0_unscaled: 0.1840 (0.1840)  loss_giou_0_unscaled: 0.7469 (0.7469)  cardinality_error_0_unscaled: 243.2500 (243.2500)  loss_ce_1_unscaled: 101.2962 (101.2962)  loss_bbox_1_unscaled: 0.1509 (0.1509)  loss_giou_1_unscaled: 0.7513 (0.7513)  cardinality_error_1_unscaled: 265.7500 (265.7500)  loss_ce_2_unscaled: 111.0641 (111.0641)  loss_bbox_2_unscaled: 0.1532 (0.1532)  loss_giou_2_unscaled: 0.7496 (0.7496)  cardinality_error_2_unscaled: 293.2500 (293.2500)  loss_ce_3_unscaled: 117.4500 (117.4500)  loss_bbox_3_unscaled: 0.1506 (0.1506)  loss_giou_3_unscaled: 0.7625 (0.7625)  cardinality_error_3_unscaled: 297.0000 (297.0000)  loss_ce_4_unscaled: 115.7066 (115.7066)  loss_bbox_4_unscaled: 0.1477 (0.1477)  loss_giou_4_unscaled: 0.7608 (0.7608)  cardinality_error_4_unscaled: 297.5000 (297.5000)  time: 1.3654  data: 0.0001  max mem: 0\n",
      "Epoch: [0]  [  20/1346]  eta: 0:21:43  lr: 0.000200  class_error: 0.00  grad_norm: 178286.45  loss: 128.9342 (276.3930)  loss_ce: 0.3582 (22.0018)  loss_bbox: 0.5029 (0.5397)  loss_giou: 1.2346 (1.2794)  loss_ce_0: 97.9587 (111.2134)  loss_bbox_0: 0.5698 (0.5763)  loss_giou_0: 1.2594 (1.2775)  loss_ce_1: 15.2082 (45.8126)  loss_bbox_1: 0.4854 (0.5254)  loss_giou_1: 1.2882 (1.3135)  loss_ce_2: 3.7086 (32.2799)  loss_bbox_2: 0.5069 (0.5519)  loss_giou_2: 1.2380 (1.2845)  loss_ce_3: 1.7832 (28.7177)  loss_bbox_3: 0.5216 (0.5699)  loss_giou_3: 1.2572 (1.2958)  loss_ce_4: 0.8214 (25.3086)  loss_bbox_4: 0.5153 (0.5551)  loss_giou_4: 1.2550 (1.2901)  loss_ce_unscaled: 0.1791 (11.0009)  class_error_unscaled: 0.0000 (9.9206)  loss_bbox_unscaled: 0.1006 (0.1079)  loss_giou_unscaled: 0.6173 (0.6397)  cardinality_error_unscaled: 1.2500 (26.7262)  loss_ce_0_unscaled: 48.9793 (55.6067)  loss_bbox_0_unscaled: 0.1140 (0.1153)  loss_giou_0_unscaled: 0.6297 (0.6388)  cardinality_error_0_unscaled: 74.5000 (108.1548)  loss_ce_1_unscaled: 7.6041 (22.9063)  loss_bbox_1_unscaled: 0.0971 (0.1051)  loss_giou_1_unscaled: 0.6441 (0.6567)  cardinality_error_1_unscaled: 1.2500 (26.8929)  loss_ce_2_unscaled: 1.8543 (16.1399)  loss_bbox_2_unscaled: 0.1014 (0.1104)  loss_giou_2_unscaled: 0.6190 (0.6422)  cardinality_error_2_unscaled: 1.2500 (27.5238)  loss_ce_3_unscaled: 0.8916 (14.3589)  loss_bbox_3_unscaled: 0.1043 (0.1140)  loss_giou_3_unscaled: 0.6286 (0.6479)  cardinality_error_3_unscaled: 1.2500 (29.2143)  loss_ce_4_unscaled: 0.4107 (12.6543)  loss_bbox_4_unscaled: 0.1031 (0.1110)  loss_giou_4_unscaled: 0.6275 (0.6451)  cardinality_error_4_unscaled: 1.2500 (27.9405)  time: 0.9637  data: 0.0000  max mem: 0\n",
      "Epoch: [0]  [  40/1346]  eta: 0:21:14  lr: 0.000200  class_error: 16.67  grad_norm: 90953.29  loss: 67.4267 (173.7706)  loss_ce: 0.0137 (11.4745)  loss_bbox: 0.4750 (0.5085)  loss_giou: 1.3245 (1.3052)  loss_ce_0: 52.0761 (82.5984)  loss_bbox_0: 0.4875 (0.5318)  loss_giou_0: 1.3269 (1.2927)  loss_ce_1: 0.9001 (23.9494)  loss_bbox_1: 0.4566 (0.5059)  loss_giou_1: 1.3327 (1.3226)  loss_ce_2: 0.0994 (16.7186)  loss_bbox_2: 0.4496 (0.5300)  loss_giou_2: 1.3183 (1.3069)  loss_ce_3: 0.0322 (14.8856)  loss_bbox_3: 0.4949 (0.5348)  loss_giou_3: 1.3178 (1.3201)  loss_ce_4: 0.0165 (13.1504)  loss_bbox_4: 0.4710 (0.5188)  loss_giou_4: 1.3329 (1.3164)  loss_ce_unscaled: 0.0068 (5.7372)  class_error_unscaled: 0.0000 (8.0894)  loss_bbox_unscaled: 0.0950 (0.1017)  loss_giou_unscaled: 0.6623 (0.6526)  cardinality_error_unscaled: 1.2500 (14.4451)  loss_ce_0_unscaled: 26.0381 (41.2992)  loss_bbox_0_unscaled: 0.0975 (0.1064)  loss_giou_0_unscaled: 0.6635 (0.6463)  cardinality_error_0_unscaled: 1.2500 (56.4146)  loss_ce_1_unscaled: 0.4501 (11.9747)  loss_bbox_1_unscaled: 0.0913 (0.1012)  loss_giou_1_unscaled: 0.6664 (0.6613)  cardinality_error_1_unscaled: 1.2500 (14.5305)  loss_ce_2_unscaled: 0.0497 (8.3593)  loss_bbox_2_unscaled: 0.0899 (0.1060)  loss_giou_2_unscaled: 0.6592 (0.6535)  cardinality_error_2_unscaled: 1.2500 (14.8537)  loss_ce_3_unscaled: 0.0161 (7.4428)  loss_bbox_3_unscaled: 0.0990 (0.1070)  loss_giou_3_unscaled: 0.6589 (0.6600)  cardinality_error_3_unscaled: 1.2500 (15.7195)  loss_ce_4_unscaled: 0.0083 (6.5752)  loss_bbox_4_unscaled: 0.0942 (0.1038)  loss_giou_4_unscaled: 0.6665 (0.6582)  cardinality_error_4_unscaled: 1.2500 (15.0671)  time: 0.9682  data: 0.0000  max mem: 0\n",
      "Epoch: [0]  [  60/1346]  eta: 0:20:52  lr: 0.000200  class_error: 25.00  grad_norm: 20913.47  loss: 44.6040 (131.5138)  loss_ce: 0.0161 (7.8382)  loss_bbox: 0.4442 (0.4939)  loss_giou: 1.1939 (1.2800)  loss_ce_0: 30.9983 (66.2368)  loss_bbox_0: 0.3962 (0.5071)  loss_giou_0: 1.1887 (1.2675)  loss_ce_1: 0.2131 (16.2384)  loss_bbox_1: 0.4265 (0.4987)  loss_giou_1: 1.2475 (1.3090)  loss_ce_2: 0.0454 (11.3511)  loss_bbox_2: 0.4338 (0.5177)  loss_giou_2: 1.2887 (1.3008)  loss_ce_3: 0.0292 (10.1204)  loss_bbox_3: 0.4221 (0.5118)  loss_giou_3: 1.2145 (1.2955)  loss_ce_4: 0.0220 (8.9579)  loss_bbox_4: 0.4038 (0.4976)  loss_giou_4: 1.2134 (1.2913)  loss_ce_unscaled: 0.0081 (3.9191)  class_error_unscaled: 0.0000 (7.4044)  loss_bbox_unscaled: 0.0888 (0.0988)  loss_giou_unscaled: 0.5970 (0.6400)  cardinality_error_unscaled: 1.0000 (10.0820)  loss_ce_0_unscaled: 15.4992 (33.1184)  loss_bbox_0_unscaled: 0.0792 (0.1014)  loss_giou_0_unscaled: 0.5944 (0.6338)  cardinality_error_0_unscaled: 1.0000 (38.2910)  loss_ce_1_unscaled: 0.1066 (8.1192)  loss_bbox_1_unscaled: 0.0853 (0.0997)  loss_giou_1_unscaled: 0.6238 (0.6545)  cardinality_error_1_unscaled: 1.0000 (10.1393)  loss_ce_2_unscaled: 0.0227 (5.6756)  loss_bbox_2_unscaled: 0.0868 (0.1035)  loss_giou_2_unscaled: 0.6444 (0.6504)  cardinality_error_2_unscaled: 1.0000 (10.3566)  loss_ce_3_unscaled: 0.0146 (5.0602)  loss_bbox_3_unscaled: 0.0844 (0.1024)  loss_giou_3_unscaled: 0.6072 (0.6477)  cardinality_error_3_unscaled: 1.0000 (10.9385)  loss_ce_4_unscaled: 0.0110 (4.4789)  loss_bbox_4_unscaled: 0.0808 (0.0995)  loss_giou_4_unscaled: 0.6067 (0.6457)  cardinality_error_4_unscaled: 1.0000 (10.5000)  time: 0.9704  data: 0.0000  max mem: 0\n",
      "Epoch: [0]  [  80/1346]  eta: 0:20:30  lr: 0.000200  class_error: 0.00  grad_norm: 7770.78  loss: 26.9893 (105.6967)  loss_ce: 0.1106 (6.0214)  loss_bbox: 0.4996 (0.5106)  loss_giou: 1.3358 (1.2927)  loss_ce_0: 12.9323 (53.1864)  loss_bbox_0: 0.4800 (0.5140)  loss_giou_0: 1.3115 (1.2799)  loss_ce_1: 0.0996 (12.3313)  loss_bbox_1: 0.4799 (0.5077)  loss_giou_1: 1.3366 (1.3203)  loss_ce_2: 0.0810 (8.6582)  loss_bbox_2: 0.4867 (0.5242)  loss_giou_2: 1.3142 (1.3139)  loss_ce_3: 0.1133 (7.7346)  loss_bbox_3: 0.5103 (0.5207)  loss_giou_3: 1.3205 (1.3018)  loss_ce_4: 0.1176 (6.8632)  loss_bbox_4: 0.5144 (0.5134)  loss_giou_4: 1.3440 (1.3020)  loss_ce_unscaled: 0.0553 (3.0107)  class_error_unscaled: 0.0000 (7.8101)  loss_bbox_unscaled: 0.0999 (0.1021)  loss_giou_unscaled: 0.6679 (0.6464)  cardinality_error_unscaled: 1.0000 (7.8889)  loss_ce_0_unscaled: 6.4661 (26.5932)  loss_bbox_0_unscaled: 0.0960 (0.1028)  loss_giou_0_unscaled: 0.6558 (0.6399)  cardinality_error_0_unscaled: 1.0000 (29.1327)  loss_ce_1_unscaled: 0.0498 (6.1657)  loss_bbox_1_unscaled: 0.0960 (0.1015)  loss_giou_1_unscaled: 0.6683 (0.6602)  cardinality_error_1_unscaled: 1.0000 (7.9321)  loss_ce_2_unscaled: 0.0405 (4.3291)  loss_bbox_2_unscaled: 0.0973 (0.1048)  loss_giou_2_unscaled: 0.6571 (0.6570)  cardinality_error_2_unscaled: 1.0000 (8.0957)  loss_ce_3_unscaled: 0.0567 (3.8673)  loss_bbox_3_unscaled: 0.1021 (0.1041)  loss_giou_3_unscaled: 0.6602 (0.6509)  cardinality_error_3_unscaled: 1.0000 (8.5340)  loss_ce_4_unscaled: 0.0588 (3.4316)  loss_bbox_4_unscaled: 0.1029 (0.1027)  loss_giou_4_unscaled: 0.6720 (0.6510)  cardinality_error_4_unscaled: 1.0000 (8.2037)  time: 0.9645  data: 0.0000  max mem: 0\n"
     ]
    },
    {
     "ename": "RuntimeError",
     "evalue": "CUDA error: CUBLAS_STATUS_EXECUTION_FAILED when calling `cublasSgemm( handle, opa, opb, m, n, k, &alpha, a, lda, b, ldb, &beta, c, ldc)`",
     "output_type": "error",
     "traceback": [
      "\u001b[0;31m---------------------------------------------------------------------------\u001b[0m",
      "\u001b[0;31mRuntimeError\u001b[0m                              Traceback (most recent call last)",
      "\u001b[0;32m/tmp/ipykernel_11721/684585351.py\u001b[0m in \u001b[0;36m<module>\u001b[0;34m\u001b[0m\n\u001b[1;32m     11\u001b[0m     \u001b[0;32mif\u001b[0m \u001b[0margs\u001b[0m\u001b[0;34m.\u001b[0m\u001b[0mdistributed\u001b[0m\u001b[0;34m:\u001b[0m\u001b[0;34m\u001b[0m\u001b[0;34m\u001b[0m\u001b[0m\n\u001b[1;32m     12\u001b[0m         \u001b[0msampler_train\u001b[0m\u001b[0;34m.\u001b[0m\u001b[0mset_epoch\u001b[0m\u001b[0;34m(\u001b[0m\u001b[0mepoch\u001b[0m\u001b[0;34m)\u001b[0m\u001b[0;34m\u001b[0m\u001b[0;34m\u001b[0m\u001b[0m\n\u001b[0;32m---> 13\u001b[0;31m     \u001b[0mtrain_stats\u001b[0m \u001b[0;34m=\u001b[0m \u001b[0mtrain_one_epoch\u001b[0m\u001b[0;34m(\u001b[0m\u001b[0mmodel_without_ddp\u001b[0m\u001b[0;34m,\u001b[0m \u001b[0mcriterion\u001b[0m\u001b[0;34m,\u001b[0m \u001b[0mdata_loader\u001b[0m\u001b[0;34m,\u001b[0m \u001b[0moptimizer\u001b[0m\u001b[0;34m,\u001b[0m \u001b[0mdevice\u001b[0m\u001b[0;34m,\u001b[0m \u001b[0mepoch\u001b[0m\u001b[0;34m,\u001b[0m \u001b[0margs\u001b[0m\u001b[0;34m.\u001b[0m\u001b[0mclip_max_norm\u001b[0m\u001b[0;34m)\u001b[0m\u001b[0;34m\u001b[0m\u001b[0;34m\u001b[0m\u001b[0m\n\u001b[0m\u001b[1;32m     14\u001b[0m     \u001b[0mlr_scheduler\u001b[0m\u001b[0;34m.\u001b[0m\u001b[0mstep\u001b[0m\u001b[0;34m(\u001b[0m\u001b[0;34m)\u001b[0m\u001b[0;34m\u001b[0m\u001b[0;34m\u001b[0m\u001b[0m\n\u001b[1;32m     15\u001b[0m \u001b[0;34m\u001b[0m\u001b[0m\n",
      "\u001b[0;32m~/project/scl/Deformable-DETR/engine.py\u001b[0m in \u001b[0;36mtrain_one_epoch\u001b[0;34m(model, criterion, data_loader, optimizer, device, epoch, max_norm)\u001b[0m\n\u001b[1;32m     40\u001b[0m     \u001b[0;31m# for samples, targets in metric_logger.log_every(data_loader, print_freq, header):\u001b[0m\u001b[0;34m\u001b[0m\u001b[0;34m\u001b[0m\u001b[0;34m\u001b[0m\u001b[0m\n\u001b[1;32m     41\u001b[0m     \u001b[0;32mfor\u001b[0m \u001b[0m_\u001b[0m \u001b[0;32min\u001b[0m \u001b[0mmetric_logger\u001b[0m\u001b[0;34m.\u001b[0m\u001b[0mlog_every\u001b[0m\u001b[0;34m(\u001b[0m\u001b[0mrange\u001b[0m\u001b[0;34m(\u001b[0m\u001b[0mlen\u001b[0m\u001b[0;34m(\u001b[0m\u001b[0mdata_loader\u001b[0m\u001b[0;34m)\u001b[0m\u001b[0;34m)\u001b[0m\u001b[0;34m,\u001b[0m \u001b[0mprint_freq\u001b[0m\u001b[0;34m,\u001b[0m \u001b[0mheader\u001b[0m\u001b[0;34m)\u001b[0m\u001b[0;34m:\u001b[0m\u001b[0;34m\u001b[0m\u001b[0;34m\u001b[0m\u001b[0m\n\u001b[0;32m---> 42\u001b[0;31m         \u001b[0moutputs\u001b[0m \u001b[0;34m=\u001b[0m \u001b[0mmodel\u001b[0m\u001b[0;34m(\u001b[0m\u001b[0msamples\u001b[0m\u001b[0;34m)\u001b[0m\u001b[0;34m\u001b[0m\u001b[0;34m\u001b[0m\u001b[0m\n\u001b[0m\u001b[1;32m     43\u001b[0m         \u001b[0mloss_dict\u001b[0m \u001b[0;34m=\u001b[0m \u001b[0mcriterion\u001b[0m\u001b[0;34m(\u001b[0m\u001b[0moutputs\u001b[0m\u001b[0;34m,\u001b[0m \u001b[0mtargets\u001b[0m\u001b[0;34m)\u001b[0m\u001b[0;34m\u001b[0m\u001b[0;34m\u001b[0m\u001b[0m\n\u001b[1;32m     44\u001b[0m         \u001b[0mweight_dict\u001b[0m \u001b[0;34m=\u001b[0m \u001b[0mcriterion\u001b[0m\u001b[0;34m.\u001b[0m\u001b[0mweight_dict\u001b[0m\u001b[0;34m\u001b[0m\u001b[0;34m\u001b[0m\u001b[0m\n",
      "\u001b[0;32m~/anaconda3/envs/detr/lib/python3.7/site-packages/torch/nn/modules/module.py\u001b[0m in \u001b[0;36m__call__\u001b[0;34m(self, *input, **kwargs)\u001b[0m\n\u001b[1;32m    548\u001b[0m             \u001b[0mresult\u001b[0m \u001b[0;34m=\u001b[0m \u001b[0mself\u001b[0m\u001b[0;34m.\u001b[0m\u001b[0m_slow_forward\u001b[0m\u001b[0;34m(\u001b[0m\u001b[0;34m*\u001b[0m\u001b[0minput\u001b[0m\u001b[0;34m,\u001b[0m \u001b[0;34m**\u001b[0m\u001b[0mkwargs\u001b[0m\u001b[0;34m)\u001b[0m\u001b[0;34m\u001b[0m\u001b[0;34m\u001b[0m\u001b[0m\n\u001b[1;32m    549\u001b[0m         \u001b[0;32melse\u001b[0m\u001b[0;34m:\u001b[0m\u001b[0;34m\u001b[0m\u001b[0;34m\u001b[0m\u001b[0m\n\u001b[0;32m--> 550\u001b[0;31m             \u001b[0mresult\u001b[0m \u001b[0;34m=\u001b[0m \u001b[0mself\u001b[0m\u001b[0;34m.\u001b[0m\u001b[0mforward\u001b[0m\u001b[0;34m(\u001b[0m\u001b[0;34m*\u001b[0m\u001b[0minput\u001b[0m\u001b[0;34m,\u001b[0m \u001b[0;34m**\u001b[0m\u001b[0mkwargs\u001b[0m\u001b[0;34m)\u001b[0m\u001b[0;34m\u001b[0m\u001b[0;34m\u001b[0m\u001b[0m\n\u001b[0m\u001b[1;32m    551\u001b[0m         \u001b[0;32mfor\u001b[0m \u001b[0mhook\u001b[0m \u001b[0;32min\u001b[0m \u001b[0mself\u001b[0m\u001b[0;34m.\u001b[0m\u001b[0m_forward_hooks\u001b[0m\u001b[0;34m.\u001b[0m\u001b[0mvalues\u001b[0m\u001b[0;34m(\u001b[0m\u001b[0;34m)\u001b[0m\u001b[0;34m:\u001b[0m\u001b[0;34m\u001b[0m\u001b[0;34m\u001b[0m\u001b[0m\n\u001b[1;32m    552\u001b[0m             \u001b[0mhook_result\u001b[0m \u001b[0;34m=\u001b[0m \u001b[0mhook\u001b[0m\u001b[0;34m(\u001b[0m\u001b[0mself\u001b[0m\u001b[0;34m,\u001b[0m \u001b[0minput\u001b[0m\u001b[0;34m,\u001b[0m \u001b[0mresult\u001b[0m\u001b[0;34m)\u001b[0m\u001b[0;34m\u001b[0m\u001b[0;34m\u001b[0m\u001b[0m\n",
      "\u001b[0;32m~/project/scl/Deformable-DETR/models/deformable_detr.py\u001b[0m in \u001b[0;36mforward\u001b[0;34m(self, samples)\u001b[0m\n\u001b[1;32m    155\u001b[0m         \u001b[0;32mif\u001b[0m \u001b[0;32mnot\u001b[0m \u001b[0mself\u001b[0m\u001b[0;34m.\u001b[0m\u001b[0mtwo_stage\u001b[0m\u001b[0;34m:\u001b[0m\u001b[0;34m\u001b[0m\u001b[0;34m\u001b[0m\u001b[0m\n\u001b[1;32m    156\u001b[0m             \u001b[0mquery_embeds\u001b[0m \u001b[0;34m=\u001b[0m \u001b[0mself\u001b[0m\u001b[0;34m.\u001b[0m\u001b[0mquery_embed\u001b[0m\u001b[0;34m.\u001b[0m\u001b[0mweight\u001b[0m\u001b[0;34m\u001b[0m\u001b[0;34m\u001b[0m\u001b[0m\n\u001b[0;32m--> 157\u001b[0;31m         \u001b[0mhs\u001b[0m\u001b[0;34m,\u001b[0m \u001b[0minit_reference\u001b[0m\u001b[0;34m,\u001b[0m \u001b[0minter_references\u001b[0m\u001b[0;34m,\u001b[0m \u001b[0menc_outputs_class\u001b[0m\u001b[0;34m,\u001b[0m \u001b[0menc_outputs_coord_unact\u001b[0m \u001b[0;34m=\u001b[0m \u001b[0mself\u001b[0m\u001b[0;34m.\u001b[0m\u001b[0mtransformer\u001b[0m\u001b[0;34m(\u001b[0m\u001b[0msrcs\u001b[0m\u001b[0;34m,\u001b[0m \u001b[0mmasks\u001b[0m\u001b[0;34m,\u001b[0m \u001b[0mpos\u001b[0m\u001b[0;34m,\u001b[0m \u001b[0mquery_embeds\u001b[0m\u001b[0;34m)\u001b[0m\u001b[0;34m\u001b[0m\u001b[0;34m\u001b[0m\u001b[0m\n\u001b[0m\u001b[1;32m    158\u001b[0m \u001b[0;34m\u001b[0m\u001b[0m\n\u001b[1;32m    159\u001b[0m         \u001b[0moutputs_classes\u001b[0m \u001b[0;34m=\u001b[0m \u001b[0;34m[\u001b[0m\u001b[0;34m]\u001b[0m\u001b[0;34m\u001b[0m\u001b[0;34m\u001b[0m\u001b[0m\n",
      "\u001b[0;32m~/anaconda3/envs/detr/lib/python3.7/site-packages/torch/nn/modules/module.py\u001b[0m in \u001b[0;36m__call__\u001b[0;34m(self, *input, **kwargs)\u001b[0m\n\u001b[1;32m    548\u001b[0m             \u001b[0mresult\u001b[0m \u001b[0;34m=\u001b[0m \u001b[0mself\u001b[0m\u001b[0;34m.\u001b[0m\u001b[0m_slow_forward\u001b[0m\u001b[0;34m(\u001b[0m\u001b[0;34m*\u001b[0m\u001b[0minput\u001b[0m\u001b[0;34m,\u001b[0m \u001b[0;34m**\u001b[0m\u001b[0mkwargs\u001b[0m\u001b[0;34m)\u001b[0m\u001b[0;34m\u001b[0m\u001b[0;34m\u001b[0m\u001b[0m\n\u001b[1;32m    549\u001b[0m         \u001b[0;32melse\u001b[0m\u001b[0;34m:\u001b[0m\u001b[0;34m\u001b[0m\u001b[0;34m\u001b[0m\u001b[0m\n\u001b[0;32m--> 550\u001b[0;31m             \u001b[0mresult\u001b[0m \u001b[0;34m=\u001b[0m \u001b[0mself\u001b[0m\u001b[0;34m.\u001b[0m\u001b[0mforward\u001b[0m\u001b[0;34m(\u001b[0m\u001b[0;34m*\u001b[0m\u001b[0minput\u001b[0m\u001b[0;34m,\u001b[0m \u001b[0;34m**\u001b[0m\u001b[0mkwargs\u001b[0m\u001b[0;34m)\u001b[0m\u001b[0;34m\u001b[0m\u001b[0;34m\u001b[0m\u001b[0m\n\u001b[0m\u001b[1;32m    551\u001b[0m         \u001b[0;32mfor\u001b[0m \u001b[0mhook\u001b[0m \u001b[0;32min\u001b[0m \u001b[0mself\u001b[0m\u001b[0;34m.\u001b[0m\u001b[0m_forward_hooks\u001b[0m\u001b[0;34m.\u001b[0m\u001b[0mvalues\u001b[0m\u001b[0;34m(\u001b[0m\u001b[0;34m)\u001b[0m\u001b[0;34m:\u001b[0m\u001b[0;34m\u001b[0m\u001b[0;34m\u001b[0m\u001b[0m\n\u001b[1;32m    552\u001b[0m             \u001b[0mhook_result\u001b[0m \u001b[0;34m=\u001b[0m \u001b[0mhook\u001b[0m\u001b[0;34m(\u001b[0m\u001b[0mself\u001b[0m\u001b[0;34m,\u001b[0m \u001b[0minput\u001b[0m\u001b[0;34m,\u001b[0m \u001b[0mresult\u001b[0m\u001b[0;34m)\u001b[0m\u001b[0;34m\u001b[0m\u001b[0;34m\u001b[0m\u001b[0m\n",
      "\u001b[0;32m~/project/scl/Deformable-DETR/models/deformable_transformer.py\u001b[0m in \u001b[0;36mforward\u001b[0;34m(self, srcs, masks, pos_embeds, query_embed)\u001b[0m\n\u001b[1;32m    151\u001b[0m \u001b[0;34m\u001b[0m\u001b[0m\n\u001b[1;32m    152\u001b[0m         \u001b[0;31m# encoder\u001b[0m\u001b[0;34m\u001b[0m\u001b[0;34m\u001b[0m\u001b[0;34m\u001b[0m\u001b[0m\n\u001b[0;32m--> 153\u001b[0;31m         \u001b[0mmemory\u001b[0m \u001b[0;34m=\u001b[0m \u001b[0mself\u001b[0m\u001b[0;34m.\u001b[0m\u001b[0mencoder\u001b[0m\u001b[0;34m(\u001b[0m\u001b[0msrc_flatten\u001b[0m\u001b[0;34m,\u001b[0m \u001b[0mspatial_shapes\u001b[0m\u001b[0;34m,\u001b[0m \u001b[0mlevel_start_index\u001b[0m\u001b[0;34m,\u001b[0m \u001b[0mvalid_ratios\u001b[0m\u001b[0;34m,\u001b[0m \u001b[0mlvl_pos_embed_flatten\u001b[0m\u001b[0;34m,\u001b[0m \u001b[0mmask_flatten\u001b[0m\u001b[0;34m)\u001b[0m\u001b[0;34m\u001b[0m\u001b[0;34m\u001b[0m\u001b[0m\n\u001b[0m\u001b[1;32m    154\u001b[0m \u001b[0;34m\u001b[0m\u001b[0m\n\u001b[1;32m    155\u001b[0m         \u001b[0;31m# prepare input for decoder\u001b[0m\u001b[0;34m\u001b[0m\u001b[0;34m\u001b[0m\u001b[0;34m\u001b[0m\u001b[0m\n",
      "\u001b[0;32m~/anaconda3/envs/detr/lib/python3.7/site-packages/torch/nn/modules/module.py\u001b[0m in \u001b[0;36m__call__\u001b[0;34m(self, *input, **kwargs)\u001b[0m\n\u001b[1;32m    548\u001b[0m             \u001b[0mresult\u001b[0m \u001b[0;34m=\u001b[0m \u001b[0mself\u001b[0m\u001b[0;34m.\u001b[0m\u001b[0m_slow_forward\u001b[0m\u001b[0;34m(\u001b[0m\u001b[0;34m*\u001b[0m\u001b[0minput\u001b[0m\u001b[0;34m,\u001b[0m \u001b[0;34m**\u001b[0m\u001b[0mkwargs\u001b[0m\u001b[0;34m)\u001b[0m\u001b[0;34m\u001b[0m\u001b[0;34m\u001b[0m\u001b[0m\n\u001b[1;32m    549\u001b[0m         \u001b[0;32melse\u001b[0m\u001b[0;34m:\u001b[0m\u001b[0;34m\u001b[0m\u001b[0;34m\u001b[0m\u001b[0m\n\u001b[0;32m--> 550\u001b[0;31m             \u001b[0mresult\u001b[0m \u001b[0;34m=\u001b[0m \u001b[0mself\u001b[0m\u001b[0;34m.\u001b[0m\u001b[0mforward\u001b[0m\u001b[0;34m(\u001b[0m\u001b[0;34m*\u001b[0m\u001b[0minput\u001b[0m\u001b[0;34m,\u001b[0m \u001b[0;34m**\u001b[0m\u001b[0mkwargs\u001b[0m\u001b[0;34m)\u001b[0m\u001b[0;34m\u001b[0m\u001b[0;34m\u001b[0m\u001b[0m\n\u001b[0m\u001b[1;32m    551\u001b[0m         \u001b[0;32mfor\u001b[0m \u001b[0mhook\u001b[0m \u001b[0;32min\u001b[0m \u001b[0mself\u001b[0m\u001b[0;34m.\u001b[0m\u001b[0m_forward_hooks\u001b[0m\u001b[0;34m.\u001b[0m\u001b[0mvalues\u001b[0m\u001b[0;34m(\u001b[0m\u001b[0;34m)\u001b[0m\u001b[0;34m:\u001b[0m\u001b[0;34m\u001b[0m\u001b[0;34m\u001b[0m\u001b[0m\n\u001b[1;32m    552\u001b[0m             \u001b[0mhook_result\u001b[0m \u001b[0;34m=\u001b[0m \u001b[0mhook\u001b[0m\u001b[0;34m(\u001b[0m\u001b[0mself\u001b[0m\u001b[0;34m,\u001b[0m \u001b[0minput\u001b[0m\u001b[0;34m,\u001b[0m \u001b[0mresult\u001b[0m\u001b[0;34m)\u001b[0m\u001b[0;34m\u001b[0m\u001b[0;34m\u001b[0m\u001b[0m\n",
      "\u001b[0;32m~/project/scl/Deformable-DETR/models/deformable_transformer.py\u001b[0m in \u001b[0;36mforward\u001b[0;34m(self, src, spatial_shapes, level_start_index, valid_ratios, pos, padding_mask)\u001b[0m\n\u001b[1;32m    254\u001b[0m         \u001b[0mreference_points\u001b[0m \u001b[0;34m=\u001b[0m \u001b[0mself\u001b[0m\u001b[0;34m.\u001b[0m\u001b[0mget_reference_points\u001b[0m\u001b[0;34m(\u001b[0m\u001b[0mspatial_shapes\u001b[0m\u001b[0;34m,\u001b[0m \u001b[0mvalid_ratios\u001b[0m\u001b[0;34m,\u001b[0m \u001b[0mdevice\u001b[0m\u001b[0;34m=\u001b[0m\u001b[0msrc\u001b[0m\u001b[0;34m.\u001b[0m\u001b[0mdevice\u001b[0m\u001b[0;34m)\u001b[0m\u001b[0;34m\u001b[0m\u001b[0;34m\u001b[0m\u001b[0m\n\u001b[1;32m    255\u001b[0m         \u001b[0;32mfor\u001b[0m \u001b[0m_\u001b[0m\u001b[0;34m,\u001b[0m \u001b[0mlayer\u001b[0m \u001b[0;32min\u001b[0m \u001b[0menumerate\u001b[0m\u001b[0;34m(\u001b[0m\u001b[0mself\u001b[0m\u001b[0;34m.\u001b[0m\u001b[0mlayers\u001b[0m\u001b[0;34m)\u001b[0m\u001b[0;34m:\u001b[0m\u001b[0;34m\u001b[0m\u001b[0;34m\u001b[0m\u001b[0m\n\u001b[0;32m--> 256\u001b[0;31m             \u001b[0moutput\u001b[0m \u001b[0;34m=\u001b[0m \u001b[0mlayer\u001b[0m\u001b[0;34m(\u001b[0m\u001b[0moutput\u001b[0m\u001b[0;34m,\u001b[0m \u001b[0mpos\u001b[0m\u001b[0;34m,\u001b[0m \u001b[0mreference_points\u001b[0m\u001b[0;34m,\u001b[0m \u001b[0mspatial_shapes\u001b[0m\u001b[0;34m,\u001b[0m \u001b[0mlevel_start_index\u001b[0m\u001b[0;34m,\u001b[0m \u001b[0mpadding_mask\u001b[0m\u001b[0;34m)\u001b[0m\u001b[0;34m\u001b[0m\u001b[0;34m\u001b[0m\u001b[0m\n\u001b[0m\u001b[1;32m    257\u001b[0m \u001b[0;34m\u001b[0m\u001b[0m\n\u001b[1;32m    258\u001b[0m         \u001b[0;32mreturn\u001b[0m \u001b[0moutput\u001b[0m\u001b[0;34m\u001b[0m\u001b[0;34m\u001b[0m\u001b[0m\n",
      "\u001b[0;32m~/anaconda3/envs/detr/lib/python3.7/site-packages/torch/nn/modules/module.py\u001b[0m in \u001b[0;36m__call__\u001b[0;34m(self, *input, **kwargs)\u001b[0m\n\u001b[1;32m    548\u001b[0m             \u001b[0mresult\u001b[0m \u001b[0;34m=\u001b[0m \u001b[0mself\u001b[0m\u001b[0;34m.\u001b[0m\u001b[0m_slow_forward\u001b[0m\u001b[0;34m(\u001b[0m\u001b[0;34m*\u001b[0m\u001b[0minput\u001b[0m\u001b[0;34m,\u001b[0m \u001b[0;34m**\u001b[0m\u001b[0mkwargs\u001b[0m\u001b[0;34m)\u001b[0m\u001b[0;34m\u001b[0m\u001b[0;34m\u001b[0m\u001b[0m\n\u001b[1;32m    549\u001b[0m         \u001b[0;32melse\u001b[0m\u001b[0;34m:\u001b[0m\u001b[0;34m\u001b[0m\u001b[0;34m\u001b[0m\u001b[0m\n\u001b[0;32m--> 550\u001b[0;31m             \u001b[0mresult\u001b[0m \u001b[0;34m=\u001b[0m \u001b[0mself\u001b[0m\u001b[0;34m.\u001b[0m\u001b[0mforward\u001b[0m\u001b[0;34m(\u001b[0m\u001b[0;34m*\u001b[0m\u001b[0minput\u001b[0m\u001b[0;34m,\u001b[0m \u001b[0;34m**\u001b[0m\u001b[0mkwargs\u001b[0m\u001b[0;34m)\u001b[0m\u001b[0;34m\u001b[0m\u001b[0;34m\u001b[0m\u001b[0m\n\u001b[0m\u001b[1;32m    551\u001b[0m         \u001b[0;32mfor\u001b[0m \u001b[0mhook\u001b[0m \u001b[0;32min\u001b[0m \u001b[0mself\u001b[0m\u001b[0;34m.\u001b[0m\u001b[0m_forward_hooks\u001b[0m\u001b[0;34m.\u001b[0m\u001b[0mvalues\u001b[0m\u001b[0;34m(\u001b[0m\u001b[0;34m)\u001b[0m\u001b[0;34m:\u001b[0m\u001b[0;34m\u001b[0m\u001b[0;34m\u001b[0m\u001b[0m\n\u001b[1;32m    552\u001b[0m             \u001b[0mhook_result\u001b[0m \u001b[0;34m=\u001b[0m \u001b[0mhook\u001b[0m\u001b[0;34m(\u001b[0m\u001b[0mself\u001b[0m\u001b[0;34m,\u001b[0m \u001b[0minput\u001b[0m\u001b[0;34m,\u001b[0m \u001b[0mresult\u001b[0m\u001b[0;34m)\u001b[0m\u001b[0;34m\u001b[0m\u001b[0;34m\u001b[0m\u001b[0m\n",
      "\u001b[0;32m~/project/scl/Deformable-DETR/models/deformable_transformer.py\u001b[0m in \u001b[0;36mforward\u001b[0;34m(self, src, pos, reference_points, spatial_shapes, level_start_index, padding_mask)\u001b[0m\n\u001b[1;32m    219\u001b[0m     \u001b[0;32mdef\u001b[0m \u001b[0mforward\u001b[0m\u001b[0;34m(\u001b[0m\u001b[0mself\u001b[0m\u001b[0;34m,\u001b[0m \u001b[0msrc\u001b[0m\u001b[0;34m,\u001b[0m \u001b[0mpos\u001b[0m\u001b[0;34m,\u001b[0m \u001b[0mreference_points\u001b[0m\u001b[0;34m,\u001b[0m \u001b[0mspatial_shapes\u001b[0m\u001b[0;34m,\u001b[0m \u001b[0mlevel_start_index\u001b[0m\u001b[0;34m,\u001b[0m \u001b[0mpadding_mask\u001b[0m\u001b[0;34m=\u001b[0m\u001b[0;32mNone\u001b[0m\u001b[0;34m)\u001b[0m\u001b[0;34m:\u001b[0m\u001b[0;34m\u001b[0m\u001b[0;34m\u001b[0m\u001b[0m\n\u001b[1;32m    220\u001b[0m         \u001b[0;31m# self attention\u001b[0m\u001b[0;34m\u001b[0m\u001b[0;34m\u001b[0m\u001b[0;34m\u001b[0m\u001b[0m\n\u001b[0;32m--> 221\u001b[0;31m         \u001b[0msrc2\u001b[0m \u001b[0;34m=\u001b[0m \u001b[0mself\u001b[0m\u001b[0;34m.\u001b[0m\u001b[0mself_attn\u001b[0m\u001b[0;34m(\u001b[0m\u001b[0mself\u001b[0m\u001b[0;34m.\u001b[0m\u001b[0mwith_pos_embed\u001b[0m\u001b[0;34m(\u001b[0m\u001b[0msrc\u001b[0m\u001b[0;34m,\u001b[0m \u001b[0mpos\u001b[0m\u001b[0;34m)\u001b[0m\u001b[0;34m,\u001b[0m \u001b[0mreference_points\u001b[0m\u001b[0;34m,\u001b[0m \u001b[0msrc\u001b[0m\u001b[0;34m,\u001b[0m \u001b[0mspatial_shapes\u001b[0m\u001b[0;34m,\u001b[0m \u001b[0mlevel_start_index\u001b[0m\u001b[0;34m,\u001b[0m \u001b[0mpadding_mask\u001b[0m\u001b[0;34m)\u001b[0m\u001b[0;34m\u001b[0m\u001b[0;34m\u001b[0m\u001b[0m\n\u001b[0m\u001b[1;32m    222\u001b[0m         \u001b[0msrc\u001b[0m \u001b[0;34m=\u001b[0m \u001b[0msrc\u001b[0m \u001b[0;34m+\u001b[0m \u001b[0mself\u001b[0m\u001b[0;34m.\u001b[0m\u001b[0mdropout1\u001b[0m\u001b[0;34m(\u001b[0m\u001b[0msrc2\u001b[0m\u001b[0;34m)\u001b[0m\u001b[0;34m\u001b[0m\u001b[0;34m\u001b[0m\u001b[0m\n\u001b[1;32m    223\u001b[0m         \u001b[0msrc\u001b[0m \u001b[0;34m=\u001b[0m \u001b[0mself\u001b[0m\u001b[0;34m.\u001b[0m\u001b[0mnorm1\u001b[0m\u001b[0;34m(\u001b[0m\u001b[0msrc\u001b[0m\u001b[0;34m)\u001b[0m\u001b[0;34m\u001b[0m\u001b[0;34m\u001b[0m\u001b[0m\n",
      "\u001b[0;32m~/anaconda3/envs/detr/lib/python3.7/site-packages/torch/nn/modules/module.py\u001b[0m in \u001b[0;36m__call__\u001b[0;34m(self, *input, **kwargs)\u001b[0m\n\u001b[1;32m    548\u001b[0m             \u001b[0mresult\u001b[0m \u001b[0;34m=\u001b[0m \u001b[0mself\u001b[0m\u001b[0;34m.\u001b[0m\u001b[0m_slow_forward\u001b[0m\u001b[0;34m(\u001b[0m\u001b[0;34m*\u001b[0m\u001b[0minput\u001b[0m\u001b[0;34m,\u001b[0m \u001b[0;34m**\u001b[0m\u001b[0mkwargs\u001b[0m\u001b[0;34m)\u001b[0m\u001b[0;34m\u001b[0m\u001b[0;34m\u001b[0m\u001b[0m\n\u001b[1;32m    549\u001b[0m         \u001b[0;32melse\u001b[0m\u001b[0;34m:\u001b[0m\u001b[0;34m\u001b[0m\u001b[0;34m\u001b[0m\u001b[0m\n\u001b[0;32m--> 550\u001b[0;31m             \u001b[0mresult\u001b[0m \u001b[0;34m=\u001b[0m \u001b[0mself\u001b[0m\u001b[0;34m.\u001b[0m\u001b[0mforward\u001b[0m\u001b[0;34m(\u001b[0m\u001b[0;34m*\u001b[0m\u001b[0minput\u001b[0m\u001b[0;34m,\u001b[0m \u001b[0;34m**\u001b[0m\u001b[0mkwargs\u001b[0m\u001b[0;34m)\u001b[0m\u001b[0;34m\u001b[0m\u001b[0;34m\u001b[0m\u001b[0m\n\u001b[0m\u001b[1;32m    551\u001b[0m         \u001b[0;32mfor\u001b[0m \u001b[0mhook\u001b[0m \u001b[0;32min\u001b[0m \u001b[0mself\u001b[0m\u001b[0;34m.\u001b[0m\u001b[0m_forward_hooks\u001b[0m\u001b[0;34m.\u001b[0m\u001b[0mvalues\u001b[0m\u001b[0;34m(\u001b[0m\u001b[0;34m)\u001b[0m\u001b[0;34m:\u001b[0m\u001b[0;34m\u001b[0m\u001b[0;34m\u001b[0m\u001b[0m\n\u001b[1;32m    552\u001b[0m             \u001b[0mhook_result\u001b[0m \u001b[0;34m=\u001b[0m \u001b[0mhook\u001b[0m\u001b[0;34m(\u001b[0m\u001b[0mself\u001b[0m\u001b[0;34m,\u001b[0m \u001b[0minput\u001b[0m\u001b[0;34m,\u001b[0m \u001b[0mresult\u001b[0m\u001b[0;34m)\u001b[0m\u001b[0;34m\u001b[0m\u001b[0;34m\u001b[0m\u001b[0m\n",
      "\u001b[0;32m~/project/scl/Deformable-DETR/models/ops/modules/ms_deform_attn.py\u001b[0m in \u001b[0;36mforward\u001b[0;34m(self, query, reference_points, input_flatten, input_spatial_shapes, input_level_start_index, input_padding_mask)\u001b[0m\n\u001b[1;32m    112\u001b[0m         output = MSDeformAttnFunction.apply(\n\u001b[1;32m    113\u001b[0m             value, input_spatial_shapes, input_level_start_index, sampling_locations, attention_weights, self.im2col_step)\n\u001b[0;32m--> 114\u001b[0;31m         \u001b[0moutput\u001b[0m \u001b[0;34m=\u001b[0m \u001b[0mself\u001b[0m\u001b[0;34m.\u001b[0m\u001b[0moutput_proj\u001b[0m\u001b[0;34m(\u001b[0m\u001b[0moutput\u001b[0m\u001b[0;34m)\u001b[0m\u001b[0;34m\u001b[0m\u001b[0;34m\u001b[0m\u001b[0m\n\u001b[0m\u001b[1;32m    115\u001b[0m         \u001b[0;32mreturn\u001b[0m \u001b[0moutput\u001b[0m\u001b[0;34m\u001b[0m\u001b[0;34m\u001b[0m\u001b[0m\n",
      "\u001b[0;32m~/anaconda3/envs/detr/lib/python3.7/site-packages/torch/nn/modules/module.py\u001b[0m in \u001b[0;36m__call__\u001b[0;34m(self, *input, **kwargs)\u001b[0m\n\u001b[1;32m    548\u001b[0m             \u001b[0mresult\u001b[0m \u001b[0;34m=\u001b[0m \u001b[0mself\u001b[0m\u001b[0;34m.\u001b[0m\u001b[0m_slow_forward\u001b[0m\u001b[0;34m(\u001b[0m\u001b[0;34m*\u001b[0m\u001b[0minput\u001b[0m\u001b[0;34m,\u001b[0m \u001b[0;34m**\u001b[0m\u001b[0mkwargs\u001b[0m\u001b[0;34m)\u001b[0m\u001b[0;34m\u001b[0m\u001b[0;34m\u001b[0m\u001b[0m\n\u001b[1;32m    549\u001b[0m         \u001b[0;32melse\u001b[0m\u001b[0;34m:\u001b[0m\u001b[0;34m\u001b[0m\u001b[0;34m\u001b[0m\u001b[0m\n\u001b[0;32m--> 550\u001b[0;31m             \u001b[0mresult\u001b[0m \u001b[0;34m=\u001b[0m \u001b[0mself\u001b[0m\u001b[0;34m.\u001b[0m\u001b[0mforward\u001b[0m\u001b[0;34m(\u001b[0m\u001b[0;34m*\u001b[0m\u001b[0minput\u001b[0m\u001b[0;34m,\u001b[0m \u001b[0;34m**\u001b[0m\u001b[0mkwargs\u001b[0m\u001b[0;34m)\u001b[0m\u001b[0;34m\u001b[0m\u001b[0;34m\u001b[0m\u001b[0m\n\u001b[0m\u001b[1;32m    551\u001b[0m         \u001b[0;32mfor\u001b[0m \u001b[0mhook\u001b[0m \u001b[0;32min\u001b[0m \u001b[0mself\u001b[0m\u001b[0;34m.\u001b[0m\u001b[0m_forward_hooks\u001b[0m\u001b[0;34m.\u001b[0m\u001b[0mvalues\u001b[0m\u001b[0;34m(\u001b[0m\u001b[0;34m)\u001b[0m\u001b[0;34m:\u001b[0m\u001b[0;34m\u001b[0m\u001b[0;34m\u001b[0m\u001b[0m\n\u001b[1;32m    552\u001b[0m             \u001b[0mhook_result\u001b[0m \u001b[0;34m=\u001b[0m \u001b[0mhook\u001b[0m\u001b[0;34m(\u001b[0m\u001b[0mself\u001b[0m\u001b[0;34m,\u001b[0m \u001b[0minput\u001b[0m\u001b[0;34m,\u001b[0m \u001b[0mresult\u001b[0m\u001b[0;34m)\u001b[0m\u001b[0;34m\u001b[0m\u001b[0;34m\u001b[0m\u001b[0m\n",
      "\u001b[0;32m~/anaconda3/envs/detr/lib/python3.7/site-packages/torch/nn/modules/linear.py\u001b[0m in \u001b[0;36mforward\u001b[0;34m(self, input)\u001b[0m\n\u001b[1;32m     85\u001b[0m \u001b[0;34m\u001b[0m\u001b[0m\n\u001b[1;32m     86\u001b[0m     \u001b[0;32mdef\u001b[0m \u001b[0mforward\u001b[0m\u001b[0;34m(\u001b[0m\u001b[0mself\u001b[0m\u001b[0;34m,\u001b[0m \u001b[0minput\u001b[0m\u001b[0;34m)\u001b[0m\u001b[0;34m:\u001b[0m\u001b[0;34m\u001b[0m\u001b[0;34m\u001b[0m\u001b[0m\n\u001b[0;32m---> 87\u001b[0;31m         \u001b[0;32mreturn\u001b[0m \u001b[0mF\u001b[0m\u001b[0;34m.\u001b[0m\u001b[0mlinear\u001b[0m\u001b[0;34m(\u001b[0m\u001b[0minput\u001b[0m\u001b[0;34m,\u001b[0m \u001b[0mself\u001b[0m\u001b[0;34m.\u001b[0m\u001b[0mweight\u001b[0m\u001b[0;34m,\u001b[0m \u001b[0mself\u001b[0m\u001b[0;34m.\u001b[0m\u001b[0mbias\u001b[0m\u001b[0;34m)\u001b[0m\u001b[0;34m\u001b[0m\u001b[0;34m\u001b[0m\u001b[0m\n\u001b[0m\u001b[1;32m     88\u001b[0m \u001b[0;34m\u001b[0m\u001b[0m\n\u001b[1;32m     89\u001b[0m     \u001b[0;32mdef\u001b[0m \u001b[0mextra_repr\u001b[0m\u001b[0;34m(\u001b[0m\u001b[0mself\u001b[0m\u001b[0;34m)\u001b[0m\u001b[0;34m:\u001b[0m\u001b[0;34m\u001b[0m\u001b[0;34m\u001b[0m\u001b[0m\n",
      "\u001b[0;32m~/anaconda3/envs/detr/lib/python3.7/site-packages/torch/nn/functional.py\u001b[0m in \u001b[0;36mlinear\u001b[0;34m(input, weight, bias)\u001b[0m\n\u001b[1;32m   1610\u001b[0m         \u001b[0mret\u001b[0m \u001b[0;34m=\u001b[0m \u001b[0mtorch\u001b[0m\u001b[0;34m.\u001b[0m\u001b[0maddmm\u001b[0m\u001b[0;34m(\u001b[0m\u001b[0mbias\u001b[0m\u001b[0;34m,\u001b[0m \u001b[0minput\u001b[0m\u001b[0;34m,\u001b[0m \u001b[0mweight\u001b[0m\u001b[0;34m.\u001b[0m\u001b[0mt\u001b[0m\u001b[0;34m(\u001b[0m\u001b[0;34m)\u001b[0m\u001b[0;34m)\u001b[0m\u001b[0;34m\u001b[0m\u001b[0;34m\u001b[0m\u001b[0m\n\u001b[1;32m   1611\u001b[0m     \u001b[0;32melse\u001b[0m\u001b[0;34m:\u001b[0m\u001b[0;34m\u001b[0m\u001b[0;34m\u001b[0m\u001b[0m\n\u001b[0;32m-> 1612\u001b[0;31m         \u001b[0moutput\u001b[0m \u001b[0;34m=\u001b[0m \u001b[0minput\u001b[0m\u001b[0;34m.\u001b[0m\u001b[0mmatmul\u001b[0m\u001b[0;34m(\u001b[0m\u001b[0mweight\u001b[0m\u001b[0;34m.\u001b[0m\u001b[0mt\u001b[0m\u001b[0;34m(\u001b[0m\u001b[0;34m)\u001b[0m\u001b[0;34m)\u001b[0m\u001b[0;34m\u001b[0m\u001b[0;34m\u001b[0m\u001b[0m\n\u001b[0m\u001b[1;32m   1613\u001b[0m         \u001b[0;32mif\u001b[0m \u001b[0mbias\u001b[0m \u001b[0;32mis\u001b[0m \u001b[0;32mnot\u001b[0m \u001b[0;32mNone\u001b[0m\u001b[0;34m:\u001b[0m\u001b[0;34m\u001b[0m\u001b[0;34m\u001b[0m\u001b[0m\n\u001b[1;32m   1614\u001b[0m             \u001b[0moutput\u001b[0m \u001b[0;34m+=\u001b[0m \u001b[0mbias\u001b[0m\u001b[0;34m\u001b[0m\u001b[0;34m\u001b[0m\u001b[0m\n",
      "\u001b[0;31mRuntimeError\u001b[0m: CUDA error: CUBLAS_STATUS_EXECUTION_FAILED when calling `cublasSgemm( handle, opa, opb, m, n, k, &alpha, a, lda, b, ldb, &beta, c, ldc)`"
     ]
    }
   ],
   "source": [
    "from engine import train_one_epoch\n",
    "import time\n",
    "from pathlib import Path\n",
    "import os\n",
    "\n",
    "output_dir = Path(args.output_dir)\n",
    "\n",
    "print(\"Start training\")\n",
    "start_time = time.time()\n",
    "for epoch in range(args.start_epoch, args.epochs):\n",
    "    if args.distributed:\n",
    "        sampler_train.set_epoch(epoch)\n",
    "    train_stats = train_one_epoch(model_without_ddp, criterion, data_loader, optimizer, device, epoch, args.clip_max_norm)\n",
    "    lr_scheduler.step()\n",
    "    \n",
    "    if epoch > 40 and epoch % 5 == 0 :\n",
    "        if args.output_dir:\n",
    "            checkpoint = {\n",
    "                'model': model_without_ddp.state_dict(),\n",
    "                'optimizer': optimizer.state_dict(),\n",
    "                'lr_scheduler': lr_scheduler.state_dict(),\n",
    "                'args': args,\n",
    "                'epoch': epoch\n",
    "            }\n",
    "            utils.save_on_master(\n",
    "                checkpoint,\n",
    "                os.path.join(args.output_dir, 'model_{}.pth'.format(epoch)))\n",
    "            utils.save_on_master(\n",
    "                checkpoint,\n",
    "                os.path.join(args.output_dir, 'checkpoint.pth'))\n",
    "\n",
    "total_time = time.time() - start_time\n",
    "total_time_str = str(datetime.timedelta(seconds=int(total_time)))\n",
    "print('Training time {}'.format(total_time_str))"
   ]
  },
  {
   "cell_type": "code",
   "execution_count": null,
   "id": "970f759d-58d8-4fe4-9359-b5cde493dc0f",
   "metadata": {},
   "outputs": [],
   "source": [
    "a = torch.tensor([0,1,2])"
   ]
  },
  {
   "cell_type": "code",
   "execution_count": null,
   "id": "e30118c0-c2a4-4838-9a6e-bdef8e51d835",
   "metadata": {},
   "outputs": [],
   "source": [
    "a[0][1]"
   ]
  },
  {
   "cell_type": "code",
   "execution_count": null,
   "id": "7434dadb-43d9-4e84-8936-cf86efe47369",
   "metadata": {},
   "outputs": [],
   "source": []
  }
 ],
 "metadata": {
  "kernelspec": {
   "display_name": "detr",
   "language": "python",
   "name": "detr"
  },
  "language_info": {
   "codemirror_mode": {
    "name": "ipython",
    "version": 3
   },
   "file_extension": ".py",
   "mimetype": "text/x-python",
   "name": "python",
   "nbconvert_exporter": "python",
   "pygments_lexer": "ipython3",
   "version": "3.7.11"
  }
 },
 "nbformat": 4,
 "nbformat_minor": 5
}
